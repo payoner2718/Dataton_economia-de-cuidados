{
 "cells": [
  {
   "cell_type": "code",
   "execution_count": 91,
   "metadata": {},
   "outputs": [],
   "source": [
    "import geopandas as gpd\n",
    "import matplotlib.pyplot as plt\n",
    "import pandas as pd\n",
    "import numpy as np\n",
    "import matplotlib.colors as colors\n",
    "import warnings\n",
    "warnings.filterwarnings('ignore', category=UserWarning)  \n",
    "warnings.filterwarnings(\"ignore\", category=RuntimeWarning, message=\".*laundered field name.*\")\n",
    "\n",
    "import warnings\n",
    "\n",
    "\n",
    "\n"
   ]
  },
  {
   "cell_type": "code",
   "execution_count": 92,
   "metadata": {},
   "outputs": [
    {
     "name": "stdout",
     "output_type": "stream",
     "text": [
      "Updated Working Directory: /Users/arturoramirez/Desktop/Proyecto DATATÓN\n"
     ]
    }
   ],
   "source": [
    "import os\n",
    "\n",
    "working_directory = \"/Users/arturoramirez/Desktop/Proyecto DATATÓN\"\n",
    "os.chdir(working_directory)\n",
    "\n",
    "print(\"Updated Working Directory:\", os.getcwd())"
   ]
  },
  {
   "cell_type": "code",
   "execution_count": 93,
   "metadata": {},
   "outputs": [],
   "source": [
    "isocrona_15_l = gpd.read_file(\"datos/final_gdf_15.shp\")\n",
    "isocrona_30_l = gpd.read_file(\"datos/final_gdf_30.shp\")\n",
    "isocrona_45_l = gpd.read_file(\"datos/final_gdf_45.shp\")\n",
    "\n",
    "colonias = gpd.read_file(\"datos/colonias_iecm.shp\")\n",
    "sintesis = gpd.read_file(\"datos/urbanismo_social_sintesis/urbanismo_social_sintesis.shp\")\n",
    "densisdad = gpd.read_file(\"datos/densidad_poblacion_2010/densidadpoblacion2010.shp\")\n",
    "\n",
    "\n",
    "\n",
    "colonias = colonias.to_crs(epsg=4326)\n",
    "\n"
   ]
  },
  {
   "cell_type": "code",
   "execution_count": 94,
   "metadata": {},
   "outputs": [],
   "source": [
    "\n",
    "\n",
    "# Set CRS for isochrones (if they need to be set, otherwise skip)\n",
    "isocrona_15_l.crs = 'epsg:4326'\n",
    "isocrona_30_l.crs = 'epsg:4326'\n",
    "isocrona_45_l.crs = 'epsg:4326'\n",
    "\n",
    "\n",
    "\n",
    "# Reproject isochrones only if their CRS was incorrectly set\n",
    "isocrona_15_l = isocrona_15_l.to_crs(epsg=4326)\n",
    "isocrona_30_l = isocrona_30_l.to_crs(epsg=4326)\n",
    "isocrona_45_l = isocrona_45_l.to_crs(epsg=4326)\n",
    "\n"
   ]
  },
  {
   "cell_type": "code",
   "execution_count": 97,
   "metadata": {},
   "outputs": [],
   "source": [
    "# Initialize a list to store results\n",
    "results = []\n",
    "\n",
    "# Iterate through each colonia\n",
    "for idx, colonia in colonias.iterrows():\n",
    "    # Find intersecting isochrones\n",
    "    intersecting_isochrones = isocrona_15_l[isocrona_15_l.intersects(colonia.geometry)]\n",
    "    \n",
    "    # If there are no intersecting isochrones, add 0% coverage and continue\n",
    "    if intersecting_isochrones.empty:\n",
    "        results.append({\n",
    "            'id': colonia['NOMUT'],\n",
    "            'NOMUT': colonia['NOMUT'],\n",
    "            'isochrone_coverage': 0\n",
    "        })\n",
    "        continue\n",
    "    \n",
    "    # Calculate the union of all intersecting isochrones using union_all\n",
    "    unified_isochrones = intersecting_isochrones.geometry.union_all()\n",
    "    \n",
    "    # Calculate the intersection of the unified isochrones with the colonia\n",
    "    intersection = unified_isochrones.intersection(colonia.geometry)\n",
    "    \n",
    "    # Calculate the percentage of coverage\n",
    "    coverage_percentage = (intersection.area / colonia.geometry.area) * 100\n",
    "    \n",
    "    # Ensure the coverage doesn't exceed 100%\n",
    "    coverage_percentage = min(coverage_percentage, 100)\n",
    "    \n",
    "    # Append the result\n",
    "    results.append({\n",
    "        'id': colonia['NOMUT'],\n",
    "        'NOMUT': colonia['NOMUT'],\n",
    "        'isochrone_coverage': coverage_percentage\n",
    "    })\n",
    "\n",
    "# Create a DataFrame from the results\n",
    "result_df = pd.DataFrame(results)\n",
    "\n"
   ]
  },
  {
   "cell_type": "code",
   "execution_count": 98,
   "metadata": {},
   "outputs": [],
   "source": [
    "# Initialize a list to store results\n",
    "results = []\n",
    "\n",
    "# Iterate through each colonia\n",
    "for idx, colonia in colonias.iterrows():\n",
    "    # Find intersecting isochrones\n",
    "    intersecting_isochrones = isocrona_30_l[isocrona_30_l.intersects(colonia.geometry)]\n",
    "    \n",
    "    # If there are no intersecting isochrones, add 0% coverage and continue\n",
    "    if intersecting_isochrones.empty:\n",
    "        results.append({\n",
    "            'id': colonia['NOMUT'],\n",
    "            'NOMUT': colonia['NOMUT'],\n",
    "            'isochrone_coverage': 0\n",
    "        })\n",
    "        continue\n",
    "    \n",
    "    # Calculate the union of all intersecting isochrones using union_all\n",
    "    unified_isochrones = intersecting_isochrones.geometry.union_all()\n",
    "    \n",
    "    # Calculate the intersection of the unified isochrones with the colonia\n",
    "    intersection = unified_isochrones.intersection(colonia.geometry)\n",
    "    \n",
    "    # Calculate the percentage of coverage\n",
    "    coverage_percentage = (intersection.area / colonia.geometry.area) * 100\n",
    "    \n",
    "    # Ensure the coverage doesn't exceed 100%\n",
    "    coverage_percentage = min(coverage_percentage, 100)\n",
    "    \n",
    "    # Append the result\n",
    "    results.append({\n",
    "        'id': colonia['NOMUT'],\n",
    "        'NOMUT': colonia['NOMUT'],\n",
    "        'isochrone_coverage': coverage_percentage\n",
    "    })\n",
    "\n",
    "# Create a DataFrame from the results\n",
    "result_df_30 = pd.DataFrame(results)\n"
   ]
  },
  {
   "cell_type": "code",
   "execution_count": 99,
   "metadata": {},
   "outputs": [],
   "source": [
    "# Initialize a list to store results\n",
    "results = []\n",
    "\n",
    "# Iterate through each colonia\n",
    "for idx, colonia in colonias.iterrows():\n",
    "    # Find intersecting isochrones\n",
    "    intersecting_isochrones = isocrona_45_l[isocrona_45_l.intersects(colonia.geometry)]\n",
    "    \n",
    "    # If there are no intersecting isochrones, add 0% coverage and continue\n",
    "    if intersecting_isochrones.empty:\n",
    "        results.append({\n",
    "            'id': colonia['NOMUT'],\n",
    "            'NOMUT': colonia['NOMUT'],\n",
    "            'isochrone_coverage': 0\n",
    "        })\n",
    "        continue\n",
    "    \n",
    "    # Calculate the union of all intersecting isochrones using union_all\n",
    "    unified_isochrones = intersecting_isochrones.geometry.union_all()\n",
    "    \n",
    "    # Calculate the intersection of the unified isochrones with the colonia\n",
    "    intersection = unified_isochrones.intersection(colonia.geometry)\n",
    "    \n",
    "    # Calculate the percentage of coverage\n",
    "    coverage_percentage = (intersection.area / colonia.geometry.area) * 100\n",
    "    \n",
    "    # Ensure the coverage doesn't exceed 100%\n",
    "    coverage_percentage = min(coverage_percentage, 100)\n",
    "    \n",
    "    # Append the result\n",
    "    results.append({\n",
    "        'id': colonia['NOMUT'],\n",
    "        'NOMUT': colonia['NOMUT'],\n",
    "        'isochrone_coverage': coverage_percentage\n",
    "    })\n",
    "\n",
    "# Create a DataFrame from the results\n",
    "result_df_45 = pd.DataFrame(results)\n"
   ]
  },
  {
   "cell_type": "code",
   "execution_count": 100,
   "metadata": {},
   "outputs": [],
   "source": [
    "joined_df = pd.merge(result_df, colonias, on='NOMUT')\n",
    "joined_df_30 = pd.merge(result_df_30, colonias, on='NOMUT')\n",
    "joined_df_45 = pd.merge(result_df_45, colonias, on='NOMUT')\n",
    "\n",
    "\n",
    "joined_df = gpd.GeoDataFrame(joined_df, geometry='geometry')\n",
    "joined_df_30 = gpd.GeoDataFrame(joined_df_30, geometry='geometry')\n",
    "joined_df_45 = gpd.GeoDataFrame(joined_df_45, geometry='geometry')\n"
   ]
  },
  {
   "cell_type": "code",
   "execution_count": 101,
   "metadata": {},
   "outputs": [],
   "source": [
    "sintesis = sintesis[['colonia', 'C_US']]\n",
    "sintesis = sintesis.rename(columns={\"colonia\": \"NOMUT\"})\n",
    "\n"
   ]
  },
  {
   "cell_type": "code",
   "execution_count": 102,
   "metadata": {},
   "outputs": [],
   "source": [
    "joined_df = pd.merge(joined_df, sintesis, on='NOMUT')\n",
    "joined_df_30 = pd.merge(joined_df_30, sintesis, on='NOMUT')\n",
    "joined_df_45 = pd.merge(joined_df_45, sintesis, on='NOMUT')\n",
    "\n",
    "densisdad = densisdad.rename(columns={\"colonia\": \"NOMUT\"})\n",
    "new_df = densisdad[['NOMUT', 'DenPob20']]\n",
    "\n",
    "joined_df = joined_df.merge(new_df, on = \"NOMUT\")\n",
    "joined_df_30 = joined_df_30.merge(new_df, on=\"NOMUT\")\n",
    "joined_df_45 = joined_df_45.merge(new_df, on = \"NOMUT\")"
   ]
  },
  {
   "cell_type": "code",
   "execution_count": 103,
   "metadata": {},
   "outputs": [],
   "source": [
    "# Apply log transformation to density values\n",
    "joined_df[\"log_DenPob20\"] = np.log(joined_df[\"DenPob20\"] + 1)\n",
    "joined_df_30[\"log_DenPob20\"] = np.log(joined_df_30[\"DenPob20\"] + 1)\n",
    "joined_df_45[\"log_DenPob20\"] = np.log(joined_df_45[\"DenPob20\"] + 1)\n",
    "\n",
    "# Calculate per_pob based on log-transformed density\n",
    "joined_df[\"per_pob\"] = joined_df[\"isochrone_coverage\"] * joined_df[\"log_DenPob20\"]\n",
    "joined_df_30[\"per_pob\"] = joined_df_30[\"isochrone_coverage\"] * joined_df_30[\"log_DenPob20\"]\n",
    "joined_df_45[\"per_pob\"] = joined_df_45[\"isochrone_coverage\"] * joined_df_45[\"log_DenPob20\"]\n",
    "\n",
    "# Normalize the per_pob column\n",
    "joined_df['per_pob_n'] = (joined_df[\"per_pob\"] - joined_df[\"per_pob\"].min()) / (joined_df[\"per_pob\"].max() - joined_df[\"per_pob\"].min())\n",
    "joined_df['rezago_n'] = (joined_df[\"C_US\"] - joined_df['C_US'].min()) / (joined_df['C_US'].max() - joined_df['C_US'].min())\n",
    "\n",
    "joined_df_30['per_pob_n'] = (joined_df_30[\"per_pob\"] - joined_df_30[\"per_pob\"].min()) / (joined_df_30[\"per_pob\"].max() - joined_df_30[\"per_pob\"].min())\n",
    "joined_df_30['rezago_n'] = (joined_df_30[\"C_US\"] - joined_df_30['C_US'].min()) / (joined_df_30['C_US'].max() - joined_df_30['C_US'].min())\n",
    "\n",
    "joined_df_45['per_pob_n'] = (joined_df_45[\"per_pob\"] - joined_df_45[\"per_pob\"].min()) / (joined_df_45[\"per_pob\"].max() - joined_df_45[\"per_pob\"].min())\n",
    "joined_df_45['rezago_n'] = (joined_df_45[\"C_US\"] - joined_df_45['C_US'].min()) / (joined_df_45['C_US'].max() - joined_df_45['C_US'].min())"
   ]
  },
  {
   "cell_type": "code",
   "execution_count": 104,
   "metadata": {},
   "outputs": [],
   "source": [
    "joined_df.to_file(\"joined_df.shp\")\n",
    "joined_df_30.to_file(\"joined_df_30.shp\")\n",
    "joined_df_45.to_file(\"joined_df_45.shp\")"
   ]
  }
 ],
 "metadata": {
  "kernelspec": {
   "display_name": "Python 3",
   "language": "python",
   "name": "python3"
  },
  "language_info": {
   "codemirror_mode": {
    "name": "ipython",
    "version": 3
   },
   "file_extension": ".py",
   "mimetype": "text/x-python",
   "name": "python",
   "nbconvert_exporter": "python",
   "pygments_lexer": "ipython3",
   "version": "3.9.6"
  }
 },
 "nbformat": 4,
 "nbformat_minor": 2
}
